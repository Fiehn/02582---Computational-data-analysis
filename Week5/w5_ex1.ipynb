{
 "cells": [
  {
   "cell_type": "markdown",
   "metadata": {},
   "source": [
    "## Imports"
   ]
  },
  {
   "cell_type": "code",
   "execution_count": 1,
   "metadata": {},
   "outputs": [],
   "source": [
    "import matplotlib.pyplot as plt\n",
    "import numpy as np\n",
    "import pandas as pd\n",
    "from sklearn import tree\n",
    "from sklearn.tree import DecisionTreeClassifier, DecisionTreeRegressor\n",
    "from pathlib import Path"
   ]
  },
  {
   "cell_type": "markdown",
   "metadata": {},
   "source": [
    "## Load dataset"
   ]
  },
  {
   "cell_type": "code",
   "execution_count": 3,
   "metadata": {},
   "outputs": [],
   "source": [
    "T = pd.read_csv(\"Actors.csv\", delimiter = \",\")\n",
    "# One hot encoding of actor\n",
    "# This is unfortuanate necessary because sklearn only handles numerical features\n",
    "T = pd.get_dummies(T,prefix=['Actor'])"
   ]
  },
  {
   "cell_type": "markdown",
   "metadata": {},
   "source": [
    "### 1. The first few exercises concern the fictitious movie dataset below. A real database with information on movies and TV-series is available in different formats from http://www.imdb.com/interfaces. The goal here is to predict the user rating of an upcoming movie as soon as the information on cast and budget is known, and to be able to explain in words why the movie will go straight to the Oscar's - or straight to oblivion."
   ]
  },
  {
   "cell_type": "markdown",
   "metadata": {},
   "source": [
    "| Observation  | Actor               | Budget ($ million)  | IMDB User Rating  |\n",
    "|------        |------               |------               |------             |\n",
    "| 1            | Nicholas Cage       | 100                 | 2.8               |\n",
    "| 2            | Scarlett Johanson   |  50                 | 8.3               |\n",
    "| 3            | Scarlett Johanson   | 150                 | 4.0               |\n",
    "| 4            | Nicholas Cage       |  20                 | 2.9               |\n",
    "| 5            | Al Pacino           |  75                 | 7.8               |\n",
    "| 6            | Al Pacino           | 150                 | 8.1               |\n",
    "| 7            | Al Pacino           | 115                 | 3.0               |\n",
    "| 8            | Nicholas Cage       | 115                 | 3.0               |"
   ]
  },
  {
   "cell_type": "markdown",
   "metadata": {},
   "source": [
    "> a) Is the described problem a classification or regression problem? Motivate your answer."
   ]
  },
  {
   "cell_type": "markdown",
   "metadata": {},
   "source": []
  },
  {
   "cell_type": "markdown",
   "metadata": {},
   "source": [
    "> b) Which input variables are categorical and which are continuous?"
   ]
  },
  {
   "cell_type": "markdown",
   "metadata": {},
   "source": []
  },
  {
   "cell_type": "markdown",
   "metadata": {},
   "source": [
    "> c) For a categorical variable with k unique categories, what is the number of possible splits into two groups? Note that empty groups are not allowed, and that groupings are commutative in the sense that e.g. the split $\\{1,2,3\\},\\{4,5\\}$ is equal to the split $\\{4,5\\},\\{1,3,2\\}$."
   ]
  },
  {
   "cell_type": "markdown",
   "metadata": {},
   "source": []
  },
  {
   "cell_type": "markdown",
   "metadata": {},
   "source": [
    " "
   ]
  },
  {
   "cell_type": "markdown",
   "metadata": {},
   "source": [
    "> d) What is the total number of splits to investigate at the root node for the movie dataset?"
   ]
  },
  {
   "cell_type": "markdown",
   "metadata": {},
   "source": []
  },
  {
   "cell_type": "markdown",
   "metadata": {},
   "source": [
    "> e) Build a tree that predicts IMDb ratings."
   ]
  },
  {
   "cell_type": "code",
   "execution_count": null,
   "metadata": {},
   "outputs": [],
   "source": [
    "# create a decisiontreeregressor/classifier\n",
    "dtree = \n",
    "\n",
    "# Fit the tree regressor/classifier"
   ]
  },
  {
   "cell_type": "code",
   "execution_count": null,
   "metadata": {},
   "outputs": [],
   "source": [
    "feature_names=['Actor_SJ', 'Actor_NC', 'Actor_AP', 'Budget']\n",
    "\n",
    "fig, axes = plt.subplots(nrows = 1,ncols = 1,figsize = (10,10), dpi=300)\n",
    "tree.plot_tree(dtree,\n",
    "               feature_names = feature_names,\n",
    "               filled = True);"
   ]
  }
 ],
 "metadata": {
  "kernelspec": {
   "display_name": "Python 3",
   "language": "python",
   "name": "python3"
  },
  "language_info": {
   "codemirror_mode": {
    "name": "ipython",
    "version": 3
   },
   "file_extension": ".py",
   "mimetype": "text/x-python",
   "name": "python",
   "nbconvert_exporter": "python",
   "pygments_lexer": "ipython3",
   "version": "3.10.9"
  }
 },
 "nbformat": 4,
 "nbformat_minor": 2
}
