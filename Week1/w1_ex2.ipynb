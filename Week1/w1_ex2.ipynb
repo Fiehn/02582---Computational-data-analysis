{
 "cells": [
  {
   "cell_type": "markdown",
   "metadata": {},
   "source": [
    "## Imports"
   ]
  },
  {
   "cell_type": "code",
   "execution_count": 1,
   "metadata": {},
   "outputs": [],
   "source": [
    "# To embed plots in the notebooks\n",
    "%matplotlib inline\n",
    "import matplotlib.pyplot as plt\n",
    "\n",
    "import numpy as np # numpy library\n",
    "import scipy . linalg as lng # linear algebra from scipy library\n",
    "from scipy . spatial import distance # load distance function\n",
    "from sklearn import preprocessing as preproc # load preprocessing function\n",
    "\n",
    "# seaborn can be used to \"prettify\" default matplotlib plots by importing and setting as default\n",
    "import seaborn as sns\n",
    "sns.set() # Set searborn as default"
   ]
  },
  {
   "cell_type": "markdown",
   "metadata": {},
   "source": [
    "## Load dataset"
   ]
  },
  {
   "cell_type": "code",
   "execution_count": 2,
   "metadata": {},
   "outputs": [],
   "source": [
    "diabetPath = './DiabetesDataNormalized.txt'\n",
    "T = np.loadtxt(diabetPath, delimiter = ' ', skiprows = 1)\n",
    "y = T[:, 10]\n",
    "X = T[:,:10]\n",
    "\n",
    "# Get number of observations (n) and number of independent variables (p)\n",
    "[n, p] = np.shape(X)\n",
    "\n",
    "M = X"
   ]
  },
  {
   "cell_type": "markdown",
   "metadata": {},
   "source": [
    "## 2 Examine Bias and Variance for the OLS:\n",
    "\n",
    "> (a) Investigate the unbiasedness of OLS using simulated data as follows."
   ]
  },
  {
   "cell_type": "markdown",
   "metadata": {},
   "source": [
    ">> (i) Create a random matrix ${\\bf X}$ consisting of three random variables which are NID, with $X ∼ N ({\\bf 0}, {\\bf I})$ and sample 10 observations from each.\n",
    "\n",
    ">> (ii) Create the true regression parameters $β_{true} = [1, 2, 3]^T$.\n",
    "\n",
    ">> (iii) Create the response y by the linear model ${\\bf y} = {\\bf X}β + {\\bf ε}$. Make sure the errors ε are homoscedastic and zero-mean $ε ∼ N(0,σ^2)$, where $σ^2$ denotes the noise level in the simulated data.\n",
    "\n",
    ">> (iv) Estimate the regression coefficients $β$ from this data"
   ]
  },
  {
   "cell_type": "code",
   "execution_count": 7,
   "metadata": {},
   "outputs": [
    {
     "name": "stdout",
     "output_type": "stream",
     "text": [
      "Estimated betas:[1.3570134  2.27803699 2.88536532]\n"
     ]
    }
   ],
   "source": [
    "# Create a function that takes X and beta_true as parameters and returns an estimate of the betas by simulating observed variables\n",
    "def estimate_betas(X, beta_true, sigma):\n",
    "    \"\"\"\n",
    "    Parameters:\n",
    "    X (nXp matrix): feature matrix used for simulation\n",
    "    true_betas (array): array of ture betas\n",
    "\n",
    "    Returns:\n",
    "    true_betas: the estimated betas\n",
    "   \"\"\"\n",
    "    # Simulate observed data using the created freature matrix\n",
    "    # create 3 sim of X then sample 10 from each\n",
    "    Xsim = np.random.normal(0, 1, (10, 3))\n",
    "\n",
    "    ysim = np.dot(Xsim, beta_true) + np.random.normal(0, sigma, 10)\n",
    "\n",
    "    # Estimate of betas\n",
    "    beta = lng.lstsq(Xsim, ysim)[0]\n",
    "\n",
    "    return beta\n",
    "\n",
    "# define true betas, n and p, and sigma\n",
    "beta_true = [1,2,3]\n",
    "sigma = np.sqrt(0.1)\n",
    "# Create a feature matrix either using np.random.normal or np.rand.randn\n",
    "\n",
    "beta = estimate_betas(X, beta_true, sigma)\n",
    "print (f'Estimated betas:{beta}')"
   ]
  },
  {
   "cell_type": "markdown",
   "metadata": {},
   "source": [
    ">> (v) Repeat steps (iii)-(iv) 100 times."
   ]
  },
  {
   "cell_type": "code",
   "execution_count": 12,
   "metadata": {},
   "outputs": [],
   "source": [
    "sigma = 0.1 # noise level\n",
    "m = 100 # number of experiments\n",
    "betas = np.zeros((3, m)) # all variable estimates\n",
    "# call the method you just created 100 times and save the estimated betas\n",
    "for i in range(m):\n",
    "    betas[:, i] = estimate_betas(X, beta_true, sigma)"
   ]
  },
  {
   "cell_type": "markdown",
   "metadata": {},
   "source": [
    ">> (vi) Use meaningful plots to investigate bias and variance for the model. Experiment with different noise levels $σ^2$. "
   ]
  },
  {
   "cell_type": "code",
   "execution_count": 14,
   "metadata": {},
   "outputs": [
    {
     "data": {
      "image/png": "[encoded data removed]",
      "text/plain": [
       "<Figure size 1000x600 with 3 Axes>"
      ]
     },
     "metadata": {},
     "output_type": "display_data"
    },
    {
     "data": {
      "text/plain": [
       "<Figure size 640x480 with 0 Axes>"
      ]
     },
     "metadata": {},
     "output_type": "display_data"
    }
   ],
   "source": [
    "# Investigate the betas that you have estimated from experiments with different noise levels\n",
    "plt.figure(figsize=(10, 6))\n",
    "plt.subplot(1, 3, 1)\n",
    "plt.hist(betas[0, :])\n",
    "plt.title('Beta 1')\n",
    "plt.subplot(1, 3, 2)\n",
    "plt.hist(betas[1, :])\n",
    "plt.title('Beta 2')\n",
    "plt.subplot(1, 3, 3)\n",
    "plt.hist(betas[2, :])\n",
    "plt.title('Beta 3')\n",
    "plt.show()\n",
    "plt.tight_layout()"
   ]
  },
  {
   "cell_type": "markdown",
   "metadata": {},
   "source": [
    "What does bias and variance mean?\n",
    "\n",
    "Are the parameter estimates unbiased? \n",
    "\n",
    "What happens when you change the noise level?"
   ]
  }
 ],
 "metadata": {
  "kernelspec": {
   "display_name": "Python 3 (ipykernel)",
   "language": "python",
   "name": "python3"
  },
  "language_info": {
   "codemirror_mode": {
    "name": "ipython",
    "version": 3
   },
   "file_extension": ".py",
   "mimetype": "text/x-python",
   "name": "python",
   "nbconvert_exporter": "python",
   "pygments_lexer": "ipython3",
   "version": "3.10.9"
  }
 },
 "nbformat": 4,
 "nbformat_minor": 2
}
